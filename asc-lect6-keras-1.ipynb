{
 "cells": [
  {
   "cell_type": "markdown",
   "metadata": {},
   "source": [
    "# Keras Tutorial - 1 - Datasets\n",
    "\n",
    "## Các thao tác trên tập dữ liệu\n",
    "\n",
    "Bài thực hành này giới thiệu các thao tác trên tập dữ liệu."
   ]
  },
  {
   "cell_type": "markdown",
   "metadata": {},
   "source": [
    "### Các bộ dữ liệu chuẩn\n",
    "\n",
    "Trong các ví dụ dưới đây, bộ dữ liệu chuẩn được nạp vào bộ nhớ \n",
    "(nếu chưa tồn tại trên đĩa cứng thì sẽ tự động tải về) sau khi \n",
    "gọi hàm load_data(). Sau đó, chương trình sẽ hiển thị các thông tin\n",
    "như số lượng ảnh, kích thước; và chọn ngẫu nhiên một ảnh để hiển thị"
   ]
  },
  {
   "cell_type": "code",
   "execution_count": 32,
   "metadata": {},
   "outputs": [
    {
     "name": "stdout",
     "output_type": "stream",
     "text": [
      "  Dataset: MNIST\n",
      "  x_train.shape: (60000, 28, 28)\n",
      "  y_train.shape: (60000,)\n",
      "  idx randomly selected: 43380\n",
      "  label: 3\n"
     ]
    },
    {
     "data": {
      "image/png": "[encoded data removed]",
      "text/plain": [
       "<matplotlib.figure.Figure at 0x126ab37b8>"
      ]
     },
     "metadata": {},
     "output_type": "display_data"
    }
   ],
   "source": [
    "# written by B2DL\n",
    "\n",
    "import matplotlib.pyplot as plt\n",
    "from keras.datasets import mnist\n",
    "import random\n",
    "\n",
    "# load the dataset\n",
    "(x_train, y_train), (x_test, y_test) = mnist.load_data()\n",
    "\n",
    "# show basic information\n",
    "print('  Dataset: MNIST')\n",
    "print('  x_train.shape:', x_train.shape)\n",
    "print('  y_train.shape:', y_train.shape)\n",
    "\n",
    "# pick a random index\n",
    "idx = random.randint(1, y_train.shape[0]) - 1\n",
    "\n",
    "print('  idx randomly selected:', idx)\n",
    "print('  label:', y_train[idx])\n",
    "\n",
    "# show the selected image\n",
    "img = x_train[idx]\n",
    "plt.axis('off')\n",
    "plt.imshow(img, cmap='gray')\n",
    "plt.show()\n",
    "\n",
    "# save selected image to file\n",
    "output_file = 'mnist_id_{}_label_{}.png'.format(idx, y_train[idx])\n",
    "plt.imsave(output_file, img, format='png', cmap='gray')"
   ]
  },
  {
   "cell_type": "code",
   "execution_count": 33,
   "metadata": {},
   "outputs": [
    {
     "name": "stdout",
     "output_type": "stream",
     "text": [
      "  Dataset: CIFAR10\n",
      "  x_train.shape: (50000, 32, 32, 3)\n",
      "  y_train.shape: (50000, 1)\n",
      "  idx randomly selected: 25855\n",
      "  label: 8\n"
     ]
    },
    {
     "data": {
      "image/png": "[encoded data removed]",
      "text/plain": [
       "<matplotlib.figure.Figure at 0x126aaebe0>"
      ]
     },
     "metadata": {},
     "output_type": "display_data"
    }
   ],
   "source": [
    "import matplotlib.pyplot as plt\n",
    "from keras.datasets import cifar10\n",
    "import random\n",
    "\n",
    "(x_train, y_train), (x_test, y_test) = cifar10.load_data()\n",
    "\n",
    "print('  Dataset: CIFAR10')\n",
    "print('  x_train.shape:', x_train.shape)\n",
    "print('  y_train.shape:', y_train.shape)\n",
    "\n",
    "idx = random.randint(1, y_train.shape[0]) - 1\n",
    "\n",
    "print('  idx randomly selected:', idx)\n",
    "print('  label:', y_train[idx][0])\n",
    "\n",
    "img = x_train[idx]\n",
    "plt.axis('off')\n",
    "plt.imshow(img)\n",
    "plt.show()\n",
    "\n",
    "# save selected image to file\n",
    "output_file = 'cifar10_id_{}_label_{}.png'.format(idx, y_train[idx][0])\n",
    "plt.imsave(output_file, img, format='png')"
   ]
  },
  {
   "cell_type": "code",
   "execution_count": 34,
   "metadata": {},
   "outputs": [
    {
     "name": "stdout",
     "output_type": "stream",
     "text": [
      "  Dataset: Fashion-MNIST\n",
      "  x_train.shape: (60000, 28, 28)\n",
      "  y_train.shape: (60000,)\n",
      "  idx randomly selected: 51885\n",
      "  label: 2\n"
     ]
    },
    {
     "data": {
      "image/png": "[encoded data removed]",
      "text/plain": [
       "<matplotlib.figure.Figure at 0x12a475208>"
      ]
     },
     "metadata": {},
     "output_type": "display_data"
    }
   ],
   "source": [
    "import matplotlib.pyplot as plt\n",
    "from keras.datasets import fashion_mnist\n",
    "import random\n",
    "\n",
    "(x_train, y_train), (x_test, y_test) = fashion_mnist.load_data()\n",
    "\n",
    "print('  Dataset: Fashion-MNIST')\n",
    "print('  x_train.shape:', x_train.shape)\n",
    "print('  y_train.shape:', y_train.shape)\n",
    "\n",
    "idx = random.randint(1, y_train.shape[0]) - 1\n",
    "\n",
    "print('  idx randomly selected:', idx)\n",
    "print('  label:', y_train[idx])\n",
    "\n",
    "img = x_train[idx]\n",
    "plt.axis('off')\n",
    "plt.imshow(img, cmap='gray')\n",
    "plt.show()"
   ]
  },
  {
   "cell_type": "markdown",
   "metadata": {},
   "source": [
    "### Các bộ dữ liệu tự tạo\n",
    "\n",
    "Thông thường, dữ liệu cho các bài toán sử dụng phương pháp học có hướng dẫn (supervised learning)\n",
    "được chia thành 3 tập: train (dùng để huấn luyện), validation (dùng để tinh chỉnh các tham số),\n",
    "và test (dùng để test model kết quả).\n",
    "\n",
    "Trong mỗi tập, các ảnh thuộc nhãn nào sẽ nằm trong thư mục có tên là nhãn đó.\n",
    "\n",
    "Ví dụ sau minh hoạ cách tổ chức dữ liệu cho bài toán phân lớp trên 2 nhãn là cats và dogs.\n",
    "\n",
    "Dữ liệu tải về từ link sau: https://www.kaggle.com/c/dogs-vs-cats/data\n",
    "\n",
    "    train/\n",
    "        dogs/\n",
    "            dog001.jpg\n",
    "            dog002.jpg\n",
    "            ...\n",
    "        cats/\n",
    "            cat001.jpg\n",
    "            cat002.jpg\n",
    "            ...\n",
    "    validation/\n",
    "        dogs/\n",
    "            dog001.jpg\n",
    "            dog002.jpg\n",
    "            ...\n",
    "        cats/\n",
    "            cat001.jpg\n",
    "            cat002.jpg\n",
    "            ...\n"
   ]
  },
  {
   "cell_type": "markdown",
   "metadata": {},
   "source": [
    "# Bài tập mở rộng\n",
    "\n",
    "1. Viết chương trình lưu các ảnh của các tập dữ liệu trong keras.datasets vào các thư mục, \n",
    "trong đó tên mỗi thư mục là nhãn và các ảnh có nhãn tương ứng sẽ nằm trong thư mục đó.\n",
    "\n",
    "2. Viết chương trình đọc dữ liệu từ thư mục của một bộ dữ liệu tự tạo (ví dụ cats & dogs ở trên)\n",
    "và tải vào bộ nhớ như hàm load_data() ở trên."
   ]
  }
 ],
 "metadata": {
  "kernelspec": {
   "display_name": "Python 3",
   "language": "python",
   "name": "python3"
  },
  "language_info": {
   "codemirror_mode": {
    "name": "ipython",
    "version": 3
   },
   "file_extension": ".py",
   "mimetype": "text/x-python",
   "name": "python",
   "nbconvert_exporter": "python",
   "pygments_lexer": "ipython3",
   "version": "3.6.3"
  }
 },
 "nbformat": 4,
 "nbformat_minor": 2
}
